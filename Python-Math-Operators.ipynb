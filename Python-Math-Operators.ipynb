{
 "cells": [
  {
   "cell_type": "markdown",
   "id": "da50fd20",
   "metadata": {},
   "source": [
    "# **Python Math Operators**"
   ]
  },
  {
   "cell_type": "markdown",
   "id": "14d01939",
   "metadata": {},
   "source": [
    "# Simple Operators"
   ]
  },
  {
   "cell_type": "markdown",
   "id": "d67d9ff8",
   "metadata": {},
   "source": [
    "Add"
   ]
  },
  {
   "cell_type": "code",
   "execution_count": 3,
   "id": "b9d1a156",
   "metadata": {},
   "outputs": [
    {
     "data": {
      "text/plain": [
       "5"
      ]
     },
     "execution_count": 3,
     "metadata": {},
     "output_type": "execute_result"
    }
   ],
   "source": [
    "2 + 3 # Need to exceute cel"
   ]
  },
  {
   "cell_type": "markdown",
   "id": "0710bdb2",
   "metadata": {},
   "source": [
    "Subtract"
   ]
  },
  {
   "cell_type": "code",
   "execution_count": 4,
   "id": "1b06b75e",
   "metadata": {},
   "outputs": [
    {
     "data": {
      "text/plain": [
       "-1"
      ]
     },
     "execution_count": 4,
     "metadata": {},
     "output_type": "execute_result"
    }
   ],
   "source": [
    "2 - 3"
   ]
  },
  {
   "cell_type": "markdown",
   "id": "8532018e",
   "metadata": {},
   "source": [
    "Multiply"
   ]
  },
  {
   "cell_type": "code",
   "execution_count": 5,
   "id": "ed10c9f1",
   "metadata": {},
   "outputs": [
    {
     "data": {
      "text/plain": [
       "6"
      ]
     },
     "execution_count": 5,
     "metadata": {},
     "output_type": "execute_result"
    }
   ],
   "source": [
    "2 * 3"
   ]
  },
  {
   "cell_type": "markdown",
   "id": "34156259",
   "metadata": {},
   "source": [
    "Regular Division"
   ]
  },
  {
   "cell_type": "code",
   "execution_count": 6,
   "id": "0fab5615",
   "metadata": {},
   "outputs": [
    {
     "data": {
      "text/plain": [
       "0.6666666666666666"
      ]
     },
     "execution_count": 6,
     "metadata": {},
     "output_type": "execute_result"
    }
   ],
   "source": [
    "2 / 3"
   ]
  },
  {
   "cell_type": "markdown",
   "id": "89286961",
   "metadata": {},
   "source": [
    "# Advanced Operators"
   ]
  },
  {
   "cell_type": "markdown",
   "id": "85a22b85",
   "metadata": {},
   "source": [
    "** Exponent"
   ]
  },
  {
   "cell_type": "code",
   "execution_count": 7,
   "id": "9d780be6",
   "metadata": {},
   "outputs": [
    {
     "data": {
      "text/plain": [
       "1000"
      ]
     },
     "execution_count": 7,
     "metadata": {},
     "output_type": "execute_result"
    }
   ],
   "source": [
    "10 ** 3"
   ]
  },
  {
   "cell_type": "markdown",
   "id": "f463da94",
   "metadata": {},
   "source": [
    "// Floor Division"
   ]
  },
  {
   "cell_type": "code",
   "execution_count": 8,
   "id": "b9da3a9c",
   "metadata": {},
   "outputs": [
    {
     "data": {
      "text/plain": [
       "4"
      ]
     },
     "execution_count": 8,
     "metadata": {},
     "output_type": "execute_result"
    }
   ],
   "source": [
    "13 // 3"
   ]
  },
  {
   "cell_type": "markdown",
   "id": "02a8b252",
   "metadata": {},
   "source": [
    "% Modulus"
   ]
  },
  {
   "cell_type": "code",
   "execution_count": 9,
   "id": "8c6f0eaa",
   "metadata": {},
   "outputs": [
    {
     "data": {
      "text/plain": [
       "1"
      ]
     },
     "execution_count": 9,
     "metadata": {},
     "output_type": "execute_result"
    }
   ],
   "source": [
    "13 % 3"
   ]
  },
  {
   "cell_type": "markdown",
   "id": "a4aaa599",
   "metadata": {},
   "source": [
    "# Exercises"
   ]
  },
  {
   "cell_type": "markdown",
   "id": "a83821b4",
   "metadata": {},
   "source": [
    "### Problem 1\n",
    "\n",
    "Write the code to add 10 and 15."
   ]
  },
  {
   "cell_type": "code",
   "execution_count": 1,
   "id": "28d56fc7",
   "metadata": {},
   "outputs": [
    {
     "data": {
      "text/plain": [
       "25"
      ]
     },
     "execution_count": 1,
     "metadata": {},
     "output_type": "execute_result"
    }
   ],
   "source": [
    "10 + 15"
   ]
  },
  {
   "cell_type": "markdown",
   "id": "8120dcb8",
   "metadata": {},
   "source": [
    "### Problem 2\n",
    "\n",
    "Write the code to subtract 8 from 15."
   ]
  },
  {
   "cell_type": "code",
   "execution_count": 2,
   "id": "87a7862d",
   "metadata": {},
   "outputs": [
    {
     "data": {
      "text/plain": [
       "7"
      ]
     },
     "execution_count": 2,
     "metadata": {},
     "output_type": "execute_result"
    }
   ],
   "source": [
    "15 - 8"
   ]
  },
  {
   "cell_type": "markdown",
   "id": "8589f836",
   "metadata": {},
   "source": [
    "### Problem 3\n",
    "\n",
    "Write the code to multiply 7 by 6."
   ]
  },
  {
   "cell_type": "code",
   "execution_count": 3,
   "id": "ea2be394",
   "metadata": {},
   "outputs": [
    {
     "data": {
      "text/plain": [
       "42"
      ]
     },
     "execution_count": 3,
     "metadata": {},
     "output_type": "execute_result"
    }
   ],
   "source": [
    "7 * 6"
   ]
  },
  {
   "cell_type": "markdown",
   "id": "76cbfc58",
   "metadata": {},
   "source": [
    "### Problem 4\n",
    "\n",
    "Write the code to divide 8 by 3."
   ]
  },
  {
   "cell_type": "code",
   "execution_count": 4,
   "id": "a1f62351",
   "metadata": {},
   "outputs": [
    {
     "data": {
      "text/plain": [
       "2.6666666666666665"
      ]
     },
     "execution_count": 4,
     "metadata": {},
     "output_type": "execute_result"
    }
   ],
   "source": [
    "8/3"
   ]
  },
  {
   "cell_type": "markdown",
   "id": "87c0b181",
   "metadata": {},
   "source": [
    "### Problem 5\n",
    "\n",
    "Write the code to the number of times 5 goes **evenly** into 18."
   ]
  },
  {
   "cell_type": "code",
   "execution_count": 5,
   "id": "ea1756fa",
   "metadata": {},
   "outputs": [
    {
     "name": "stdout",
     "output_type": "stream",
     "text": [
      "The number of times 5 goes evenly into 18 is: 3\n"
     ]
    }
   ],
   "source": [
    "number = 18\n",
    "divisor = 5\n",
    "result = number // divisor\n",
    "print(f\"The number of times 5 goes evenly into 18 is: {result}\")"
   ]
  },
  {
   "cell_type": "markdown",
   "id": "3d83b071",
   "metadata": {},
   "source": [
    "### Problem 6\n",
    "\n",
    "Write the code to find the **remainder** when dividing 20 by 3."
   ]
  },
  {
   "cell_type": "code",
   "execution_count": 6,
   "id": "a0993c43",
   "metadata": {},
   "outputs": [
    {
     "data": {
      "text/plain": [
       "2"
      ]
     },
     "execution_count": 6,
     "metadata": {},
     "output_type": "execute_result"
    }
   ],
   "source": [
    "20 % 3"
   ]
  },
  {
   "cell_type": "markdown",
   "id": "055da719",
   "metadata": {},
   "source": [
    "### Problem 7\n",
    "\n",
    "Write the code to raise 8 to the power of 3."
   ]
  },
  {
   "cell_type": "code",
   "execution_count": null,
   "id": "a93b8038",
   "metadata": {},
   "outputs": [
    {
     "data": {
      "text/plain": [
       "512"
      ]
     },
     "execution_count": 1,
     "metadata": {},
     "output_type": "execute_result"
    }
   ],
   "source": [
    "8 ** 3"
   ]
  },
  {
   "cell_type": "markdown",
   "id": "d8b8afe0",
   "metadata": {},
   "source": [
    "### Problem 8\n",
    "\n",
    "Determine what this code will output before running the cell."
   ]
  },
  {
   "cell_type": "markdown",
   "id": "e76e89e6",
   "metadata": {},
   "source": [
    "**Expression**\n",
    "\n",
    "\\[\n",
    "(10 + 3) * 2 - (10 \\% 3) + 10 // 3\n",
    "\\]\n",
    "\n",
    "**Step 1:** Parentheses  \n",
    "\\[\n",
    "10 + 3 = 13\n",
    "\\]\n",
    "\n",
    "**Step 2:** Multiplication  \n",
    "\\[\n",
    "13 * 2 = 26\n",
    "\\]\n",
    "\n",
    "**Step 3:** Modulo  \n",
    "\\[\n",
    "10 \\% 3 = 1\n",
    "\\]\n",
    "\n",
    "**Step 4:** Floor Division  \n",
    "\\[\n",
    "10 // 3 = 3\n",
    "\\]\n",
    "\n",
    "**Step 5:** Substitute values  \n",
    "\\[\n",
    "26 - 1 + 3\n",
    "\\]\n",
    "\n",
    "**Step 6:** Simplify  \n",
    "\\[\n",
    "26 - 1 = 25\n",
    "\\]  \n",
    "\\[\n",
    "25 + 3 = 28\n",
    "\\]\n",
    "\n",
    "**Final Answer: 28**\n"
   ]
  },
  {
   "cell_type": "code",
   "execution_count": 2,
   "id": "2c030feb",
   "metadata": {},
   "outputs": [
    {
     "data": {
      "text/plain": [
       "28"
      ]
     },
     "execution_count": 2,
     "metadata": {},
     "output_type": "execute_result"
    }
   ],
   "source": [
    "(10+3)*2 - (10%3) + 10//3"
   ]
  },
  {
   "cell_type": "markdown",
   "id": "be4cc35f",
   "metadata": {},
   "source": [
    "### Problem 9\n",
    "\n",
    "Determine what this code will output before running the cell."
   ]
  },
  {
   "cell_type": "markdown",
   "id": "9cb9b451",
   "metadata": {},
   "source": [
    "**Expression**\n",
    "\n",
    "\\[\n",
    "2 + 6 * 2 ** 2 // 4 - 3\n",
    "\\]\n",
    "\n",
    "**Step 1:** Exponentiation  \n",
    "\\[\n",
    "2 ** 2 = 4\n",
    "\\]\n",
    "\n",
    "**Step 2:** Multiplication and Floor Division (left to right)  \n",
    "\\[\n",
    "6 * 4 = 24\n",
    "\\]  \n",
    "\\[\n",
    "24 // 4 = 6\n",
    "\\]\n",
    "\n",
    "**Step 3:** Substitute values  \n",
    "\\[\n",
    "2 + 6 - 3\n",
    "\\]\n",
    "\n",
    "**Step 4:** Simplify  \n",
    "\\[\n",
    "2 + 6 = 8\n",
    "\\]  \n",
    "\\[\n",
    "8 - 3 = 5\n",
    "\\]\n",
    "\n",
    "**Final Answer: 5**"
   ]
  },
  {
   "cell_type": "code",
   "execution_count": 3,
   "id": "c9b75d95",
   "metadata": {},
   "outputs": [
    {
     "data": {
      "text/plain": [
       "5"
      ]
     },
     "execution_count": 3,
     "metadata": {},
     "output_type": "execute_result"
    }
   ],
   "source": [
    "2 + 6 * 2 ** 2 // 4 - 3"
   ]
  },
  {
   "cell_type": "markdown",
   "id": "c3308653",
   "metadata": {},
   "source": [
    "### Problem 10\n",
    "\n",
    "Determine what this code will output before running the cell."
   ]
  },
  {
   "cell_type": "markdown",
   "id": "7243bbc8",
   "metadata": {},
   "source": [
    "**Expression**\n",
    "\n",
    "\\[\n",
    "15 // 4 + 6 * 2 - 9 \\% 4\n",
    "\\]\n",
    "\n",
    "**Step 1:** Floor Division and Modulo (same precedence, left to right)  \n",
    "\\[\n",
    "15 // 4 = 3\n",
    "\\]  \n",
    "\\[\n",
    "9 \\% 4 = 1\n",
    "\\]\n",
    "\n",
    "So:  \n",
    "\\[\n",
    "3 + 6 * 2 - 1\n",
    "\\]\n",
    "\n",
    "**Step 2:** Multiplication  \n",
    "\\[\n",
    "6 * 2 = 12\n",
    "\\]\n",
    "\n",
    "So:  \n",
    "\\[\n",
    "3 + 12 - 1\n",
    "\\]\n",
    "\n",
    "**Step 3:** Addition and Subtraction (left to right)  \n",
    "\\[\n",
    "3 + 12 = 15\n",
    "\\]  \n",
    "\\[\n",
    "15 - 1 = 14\n",
    "\\]\n",
    "\n",
    "**Final Answer: 14**\n"
   ]
  },
  {
   "cell_type": "code",
   "execution_count": 4,
   "id": "266b2ce8",
   "metadata": {},
   "outputs": [
    {
     "data": {
      "text/plain": [
       "14"
      ]
     },
     "execution_count": 4,
     "metadata": {},
     "output_type": "execute_result"
    }
   ],
   "source": [
    "15 // 4 + 6 * 2 - 9 % 4"
   ]
  }
 ],
 "metadata": {
  "kernelspec": {
   "display_name": "Python 3",
   "language": "python",
   "name": "python3"
  },
  "language_info": {
   "codemirror_mode": {
    "name": "ipython",
    "version": 3
   },
   "file_extension": ".py",
   "mimetype": "text/x-python",
   "name": "python",
   "nbconvert_exporter": "python",
   "pygments_lexer": "ipython3",
   "version": "3.10.11"
  }
 },
 "nbformat": 4,
 "nbformat_minor": 5
}
